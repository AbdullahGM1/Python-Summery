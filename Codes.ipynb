{
 "cells": [
  {
   "cell_type": "code",
   "execution_count": 14,
   "metadata": {},
   "outputs": [
    {
     "name": "stdout",
     "output_type": "stream",
     "text": [
      "Hello\n"
     ]
    }
   ],
   "source": [
    "# To Commnet Multi-Lines at once - Cmd + /\n",
    "\n",
    "print(\"Hello\")\n"
   ]
  },
  {
   "cell_type": "code",
   "execution_count": 15,
   "metadata": {},
   "outputs": [
    {
     "name": "stdout",
     "output_type": "stream",
     "text": [
      "22\n"
     ]
    }
   ],
   "source": [
    "print(22)"
   ]
  },
  {
   "cell_type": "code",
   "execution_count": 16,
   "metadata": {},
   "outputs": [
    {
     "data": {
      "text/plain": [
       "13.5"
      ]
     },
     "execution_count": 16,
     "metadata": {},
     "output_type": "execute_result"
    }
   ],
   "source": [
    "(22+5)/2"
   ]
  },
  {
   "cell_type": "code",
   "execution_count": 17,
   "metadata": {},
   "outputs": [],
   "source": [
    "country=\"Saudi\" #country considers as variable\n",
    "age=30\n"
   ]
  },
  {
   "cell_type": "code",
   "execution_count": 18,
   "metadata": {},
   "outputs": [
    {
     "name": "stdout",
     "output_type": "stream",
     "text": [
      "30\n",
      "Saudi\n"
     ]
    }
   ],
   "source": [
    "print(age)\n",
    "print(country)"
   ]
  },
  {
   "cell_type": "code",
   "execution_count": 19,
   "metadata": {},
   "outputs": [
    {
     "data": {
      "text/plain": [
       "True"
      ]
     },
     "execution_count": 19,
     "metadata": {},
     "output_type": "execute_result"
    }
   ],
   "source": [
    "10**3==1000\n"
   ]
  },
  {
   "cell_type": "code",
   "execution_count": 20,
   "metadata": {},
   "outputs": [
    {
     "data": {
      "text/plain": [
       "False"
      ]
     },
     "execution_count": 20,
     "metadata": {},
     "output_type": "execute_result"
    }
   ],
   "source": [
    "# 10 to the power 3 (Power of = **)\n",
    "# Two Eqals (==)\n",
    "# One Equal = for assign variable\n",
    "\n",
    "10**3==100"
   ]
  },
  {
   "cell_type": "code",
   "execution_count": 21,
   "metadata": {},
   "outputs": [
    {
     "data": {
      "text/plain": [
       "True"
      ]
     },
     "execution_count": 21,
     "metadata": {},
     "output_type": "execute_result"
    }
   ],
   "source": [
    "10*3==age"
   ]
  },
  {
   "cell_type": "code",
   "execution_count": 22,
   "metadata": {},
   "outputs": [
    {
     "name": "stdout",
     "output_type": "stream",
     "text": [
      "Adult\n"
     ]
    }
   ],
   "source": [
    "if age >=18:\n",
    "    print(\"Adult\")\n",
    "else:\n",
    "    print(\"Minor\")"
   ]
  },
  {
   "cell_type": "code",
   "execution_count": 23,
   "metadata": {},
   "outputs": [
    {
     "name": "stdout",
     "output_type": "stream",
     "text": [
      "1\n",
      "2\n",
      "3\n",
      "4\n",
      "5\n"
     ]
    }
   ],
   "source": [
    "for number in [1,2,3,4,5]:\n",
    "    print(number)\n"
   ]
  },
  {
   "cell_type": "code",
   "execution_count": 24,
   "metadata": {},
   "outputs": [
    {
     "name": "stdout",
     "output_type": "stream",
     "text": [
      "1\n",
      "2\n",
      "3\n"
     ]
    }
   ],
   "source": [
    "my_list= [3,6,9]\n",
    "\n",
    "for x in my_list:\n",
    "    print(int(x/3))"
   ]
  },
  {
   "cell_type": "code",
   "execution_count": 25,
   "metadata": {},
   "outputs": [
    {
     "name": "stdout",
     "output_type": "stream",
     "text": [
      "wrong\n"
     ]
    }
   ],
   "source": [
    "if age <= 30:\n",
    "    print(\"wrong\")"
   ]
  },
  {
   "cell_type": "code",
   "execution_count": 26,
   "metadata": {},
   "outputs": [],
   "source": [
    "def is_adult(age): #Age inside the parentheses called Argument and it's information such as f(x)\n",
    "    if age >= 18:\n",
    "        print(\"Adult\")\n",
    "    else:\n",
    "        print(\"Minor\")"
   ]
  },
  {
   "cell_type": "code",
   "execution_count": null,
   "metadata": {},
   "outputs": [],
   "source": []
  },
  {
   "cell_type": "code",
   "execution_count": 27,
   "metadata": {},
   "outputs": [
    {
     "name": "stdout",
     "output_type": "stream",
     "text": [
      "Minor\n"
     ]
    }
   ],
   "source": [
    "is_adult(12)"
   ]
  },
  {
   "cell_type": "code",
   "execution_count": 28,
   "metadata": {},
   "outputs": [
    {
     "data": {
      "text/plain": [
       "[5, 25, 108, 116, 119]"
      ]
     },
     "execution_count": 28,
     "metadata": {},
     "output_type": "execute_result"
    }
   ],
   "source": [
    "ages = [5,116,108,119,25]\n",
    "\n",
    "sorted(ages)"
   ]
  },
  {
   "cell_type": "code",
   "execution_count": 29,
   "metadata": {},
   "outputs": [],
   "source": [
    "number_test=20\n"
   ]
  },
  {
   "cell_type": "code",
   "execution_count": 30,
   "metadata": {},
   "outputs": [
    {
     "name": "stdout",
     "output_type": "stream",
     "text": [
      "20\n"
     ]
    }
   ],
   "source": [
    "print(number_test)"
   ]
  },
  {
   "cell_type": "code",
   "execution_count": 31,
   "metadata": {},
   "outputs": [],
   "source": [
    "\n",
    "def test(number):\n",
    "    if number >= 20:\n",
    "        print(\"Correct\")\n",
    "    else:\n",
    "        print(\"Wrong\")\n",
    "\n"
   ]
  },
  {
   "cell_type": "code",
   "execution_count": 32,
   "metadata": {},
   "outputs": [
    {
     "name": "stdout",
     "output_type": "stream",
     "text": [
      "Correct\n",
      "20\n"
     ]
    }
   ],
   "source": [
    "test(number_test)\n",
    "print(number_test)"
   ]
  },
  {
   "cell_type": "code",
   "execution_count": 33,
   "metadata": {},
   "outputs": [
    {
     "name": "stdout",
     "output_type": "stream",
     "text": [
      "<class 'str'>\n",
      "Ta Ta!\n"
     ]
    }
   ],
   "source": [
    "magic=(\"Ta Ta!\")\n",
    "print(type(magic))\n",
    "print(magic)"
   ]
  },
  {
   "cell_type": "code",
   "execution_count": 34,
   "metadata": {},
   "outputs": [
    {
     "name": "stdout",
     "output_type": "stream",
     "text": [
      "tA tA!\n"
     ]
    }
   ],
   "source": [
    "magic1 = magic.swapcase()\n",
    "print(magic1)"
   ]
  },
  {
   "cell_type": "code",
   "execution_count": 35,
   "metadata": {},
   "outputs": [
    {
     "name": "stdout",
     "output_type": "stream",
     "text": [
      "Tl Tl!\n"
     ]
    }
   ],
   "source": [
    "magic2=magic.replace('a','l')\n",
    "print(magic2)"
   ]
  },
  {
   "cell_type": "code",
   "execution_count": 36,
   "metadata": {},
   "outputs": [
    {
     "name": "stdout",
     "output_type": "stream",
     "text": [
      "['Ta', 'Ta!']\n"
     ]
    }
   ],
   "source": [
    "magic3=magic.split()\n",
    "print(magic3)"
   ]
  },
  {
   "cell_type": "code",
   "execution_count": 37,
   "metadata": {},
   "outputs": [
    {
     "name": "stdout",
     "output_type": "stream",
     "text": [
      "<class 'str'>\n",
      "tADA dATA!!\n",
      "['Tada', 'Data!!']\n",
      "Txdx Dxtx!!\n"
     ]
    }
   ],
   "source": [
    "A = (\"Tada Data!!\")\n",
    "\n",
    "print(type(A))\n",
    "\n",
    "A1=A.swapcase()\n",
    "A2=A.split()\n",
    "A3=A.replace('a','x')\n",
    "\n",
    "# We attache a dot (Dot Notation) to the calss to access the methods or Attiributes \n",
    "\n",
    "# Methods has parenthesses () - we can manipulate the data\n",
    "# Attribute has parenthesses - Attributes are values associated with an object or class (don't do anything to it or change it)\n",
    "\n",
    "print(A1)\n",
    "\n",
    "print(A2)\n",
    "\n",
    "print(A3)\n",
    "\n"
   ]
  },
  {
   "cell_type": "code",
   "execution_count": 38,
   "metadata": {},
   "outputs": [
    {
     "name": "stdout",
     "output_type": "stream",
     "text": [
      "This is my learning journy to learn Python!!\n"
     ]
    }
   ],
   "source": [
    "print(\"This is my learning journy to learn Python!!\")"
   ]
  },
  {
   "cell_type": "code",
   "execution_count": 39,
   "metadata": {},
   "outputs": [
    {
     "name": "stdout",
     "output_type": "stream",
     "text": [
      "1\n",
      "2\n"
     ]
    }
   ],
   "source": [
    "x=1\n",
    "print(x)\n",
    "\n",
    "x=x+1\n",
    "print(x)"
   ]
  },
  {
   "cell_type": "code",
   "execution_count": 42,
   "metadata": {},
   "outputs": [
    {
     "name": "stdout",
     "output_type": "stream",
     "text": [
      "bigger\n"
     ]
    }
   ],
   "source": [
    "x=6\n",
    "\n",
    "if x<5:\n",
    "    print(\"smaller\")\n",
    "elif x>5:\n",
    "    print(\"bigger\")\n",
    "else:\n",
    "    print(\"equal\")\n",
    "\n"
   ]
  },
  {
   "cell_type": "code",
   "execution_count": 52,
   "metadata": {},
   "outputs": [
    {
     "name": "stdout",
     "output_type": "stream",
     "text": [
      "5\n",
      "4\n",
      "3\n",
      "2\n",
      "1\n",
      "0\n",
      "Done\n"
     ]
    }
   ],
   "source": [
    "n=5 \n",
    "while n >= 0:\n",
    "    print(n)\n",
    "    n=n-1\n",
    "print(\"Done\")\n",
    "\n"
   ]
  },
  {
   "cell_type": "code",
   "execution_count": 59,
   "metadata": {},
   "outputs": [
    {
     "name": "stdout",
     "output_type": "stream",
     "text": [
      "5\n",
      "<class 'int'>\n",
      "Hello There\n",
      "<class 'str'>\n"
     ]
    }
   ],
   "source": [
    "ddd= 1+4\n",
    "print(ddd)\n",
    "print(type(ddd))\n",
    "\n",
    "eee=(\"Hello\") + (\" There\")\n",
    "print(eee)\n",
    "print(type(eee))"
   ]
  },
  {
   "cell_type": "code",
   "execution_count": 64,
   "metadata": {},
   "outputs": [
    {
     "name": "stdout",
     "output_type": "stream",
     "text": [
      "Hello55\n"
     ]
    }
   ],
   "source": [
    "a= \"Hello\"\n",
    "b= (str(55))\n",
    "\n",
    "c=a+b\n",
    "\n",
    "print(c)"
   ]
  },
  {
   "cell_type": "code",
   "execution_count": 69,
   "metadata": {},
   "outputs": [
    {
     "name": "stdout",
     "output_type": "stream",
     "text": [
      "24\n"
     ]
    },
    {
     "data": {
      "text/plain": [
       "int"
      ]
     },
     "execution_count": 69,
     "metadata": {},
     "output_type": "execute_result"
    }
   ],
   "source": [
    "a=int(12.5)\n",
    "b=int(12.2)\n",
    "\n",
    "c=a+b\n",
    "\n",
    "print(c)\n",
    "type(c)"
   ]
  },
  {
   "cell_type": "code",
   "execution_count": 79,
   "metadata": {},
   "outputs": [
    {
     "name": "stdout",
     "output_type": "stream",
     "text": [
      "123 <class 'str'>\n",
      "123 <class 'int'>\n",
      "124 <class 'int'>\n"
     ]
    }
   ],
   "source": [
    "a=\"123\"\n",
    "print(a,type(a))\n",
    "\n",
    "b=int(a)\n",
    "print(b,type(b))\n",
    "\n",
    "c=b+1\n",
    "print(c,type(c))\n"
   ]
  },
  {
   "cell_type": "code",
   "execution_count": 81,
   "metadata": {},
   "outputs": [
    {
     "name": "stdout",
     "output_type": "stream",
     "text": [
      "TAZ <class 'str'>\n"
     ]
    },
    {
     "ename": "ValueError",
     "evalue": "invalid literal for int() with base 10: 'TAZ'",
     "output_type": "error",
     "traceback": [
      "\u001b[0;31m---------------------------------------------------------------------------\u001b[0m",
      "\u001b[0;31mValueError\u001b[0m                                Traceback (most recent call last)",
      "Cell \u001b[0;32mIn[81], line 3\u001b[0m\n\u001b[1;32m      1\u001b[0m a\u001b[38;5;241m=\u001b[39m\u001b[38;5;124m\"\u001b[39m\u001b[38;5;124mTAZ\u001b[39m\u001b[38;5;124m\"\u001b[39m\n\u001b[1;32m      2\u001b[0m \u001b[38;5;28mprint\u001b[39m(a,\u001b[38;5;28mtype\u001b[39m(a))\n\u001b[0;32m----> 3\u001b[0m b\u001b[38;5;241m=\u001b[39m\u001b[38;5;28;43mint\u001b[39;49m\u001b[43m(\u001b[49m\u001b[43ma\u001b[49m\u001b[43m)\u001b[49m\n",
      "\u001b[0;31mValueError\u001b[0m: invalid literal for int() with base 10: 'TAZ'"
     ]
    }
   ],
   "source": [
    "a=\"TAZ\"\n",
    "print(a,type(a))\n",
    "b=int(a)\n",
    "\n"
   ]
  },
  {
   "cell_type": "code",
   "execution_count": 1,
   "metadata": {},
   "outputs": [],
   "source": [
    "a=input(\"What is your name?\")\n",
    "print(\"Hello \", a)"
   ]
  },
  {
   "cell_type": "code",
   "execution_count": null,
   "metadata": {},
   "outputs": [],
   "source": [
    "name = input(\"What is your name: \")\n",
    "print(\"Hello\", name)"
   ]
  },
  {
   "cell_type": "code",
   "execution_count": null,
   "metadata": {},
   "outputs": [],
   "source": [
    "#This code for calculatring Gross Pay\n",
    "\n",
    "hours=input(\"How many hours did you work: \")\n",
    "RPH=input(\"What is your rate per hour: \")\n",
    "hours=float(hours)\n",
    "RPH=float(RPH)\n",
    "out_put=hours*RPH\n",
    "\n",
    "print(\"Pay:\", out_put)\n"
   ]
  },
  {
   "cell_type": "code",
   "execution_count": 1,
   "metadata": {},
   "outputs": [],
   "source": [
    "##This code is to test if the input number is an odd or even\n",
    "\n",
    "\n",
    "num=input(\"Please Enter The Number that you want to check it it's an odd or even number: \")\n",
    "num=int(num)\n",
    "if num > 0:\n",
    "    test=num%2\n",
    "    if test==1:\n",
    "        print(num, \"is an odd number\")\n",
    "    else:\n",
    "        print(num, \"is an even number\")\n",
    "else:\n",
    "    print(\"Please add numbers not zero\")\n"
   ]
  },
  {
   "cell_type": "code",
   "execution_count": 4,
   "metadata": {},
   "outputs": [
    {
     "name": "stdout",
     "output_type": "stream",
     "text": [
      "Bigger\n"
     ]
    }
   ],
   "source": [
    "x= 8\n",
    "if x>5:\n",
    "    print(\"Bigger\")\n",
    "elif x<5:\n",
    "    print(\"Less\")\n",
    "elif x==5:\n",
    "    print(\"Equal\")"
   ]
  },
  {
   "cell_type": "code",
   "execution_count": 10,
   "metadata": {},
   "outputs": [
    {
     "name": "stdout",
     "output_type": "stream",
     "text": [
      "Hi TAZ\n",
      "Error -1\n",
      "12345\n"
     ]
    }
   ],
   "source": [
    "name=\"Hi TAZ\"\n",
    "try:\n",
    "    print(name) #this one will be executed \n",
    "    name=int(name)\n",
    "    print(name) #This one will not be executed \n",
    "except:\n",
    "    ename=-1\n",
    "print(\"Error\", ename)\n",
    "\n",
    "name=\"12345\"\n",
    "try:\n",
    "    name=int(name)\n",
    "    print(name)\n",
    "except:\n",
    "    ename=-1\n",
    "    print(\"Error\", ename)\n",
    "\n",
    "\n",
    "\n"
   ]
  },
  {
   "cell_type": "code",
   "execution_count": 11,
   "metadata": {},
   "outputs": [],
   "source": [
    "#####This code is to test if the input number is an odd or even (with Try condition)\n",
    "\n",
    "\n",
    "num=input(\"Please Enter The Number that you want to check it it's an odd or even number: \")\n",
    "try: \n",
    "    num=int(num) ## This line is to check that the input is only numbers, where Strings can't convert to Intger \n",
    "    if num > 0:\n",
    "        test=num%2\n",
    "        if test==1:\n",
    "            print(num, \"is an odd number\")\n",
    "        else:\n",
    "            print(num, \"is an even number\")\n",
    "    else:\n",
    "        print(\"Please add numbers not zero\")\n",
    "except:\n",
    "    print(\"This is not a Number\")\n"
   ]
  },
  {
   "cell_type": "code",
   "execution_count": 2,
   "metadata": {},
   "outputs": [
    {
     "name": "stdout",
     "output_type": "stream",
     "text": [
      "Small\n",
      "All done\n"
     ]
    }
   ],
   "source": [
    "x = 0\n",
    "if x < 2 :\n",
    "    print('Small')\n",
    "elif x < 10 :\n",
    "    print('Medium')\n",
    "else :\n",
    "    print('LARGE')\n",
    "print('All done')"
   ]
  },
  {
   "cell_type": "code",
   "execution_count": 4,
   "metadata": {},
   "outputs": [
    {
     "ename": "ValueError",
     "evalue": "invalid literal for int() with base 10: 'Hello Bob'",
     "output_type": "error",
     "traceback": [
      "\u001b[0;31m---------------------------------------------------------------------------\u001b[0m",
      "\u001b[0;31mValueError\u001b[0m                                Traceback (most recent call last)",
      "Cell \u001b[0;32mIn[4], line 2\u001b[0m\n\u001b[1;32m      1\u001b[0m astr \u001b[38;5;241m=\u001b[39m \u001b[38;5;124m'\u001b[39m\u001b[38;5;124mHello Bob\u001b[39m\u001b[38;5;124m'\u001b[39m\n\u001b[0;32m----> 2\u001b[0m istr \u001b[38;5;241m=\u001b[39m \u001b[38;5;28;43mint\u001b[39;49m\u001b[43m(\u001b[49m\u001b[43mastr\u001b[49m\u001b[43m)\u001b[49m\n\u001b[1;32m      3\u001b[0m \u001b[38;5;28mprint\u001b[39m(\u001b[38;5;124m'\u001b[39m\u001b[38;5;124mFirst\u001b[39m\u001b[38;5;124m'\u001b[39m, istr)\n\u001b[1;32m      4\u001b[0m astr \u001b[38;5;241m=\u001b[39m \u001b[38;5;124m'\u001b[39m\u001b[38;5;124m123\u001b[39m\u001b[38;5;124m'\u001b[39m\n",
      "\u001b[0;31mValueError\u001b[0m: invalid literal for int() with base 10: 'Hello Bob'"
     ]
    }
   ],
   "source": [
    "astr = 'Hello Bob'\n",
    "istr = int(astr)\n",
    "print('First', istr)\n",
    "astr = '123'\n",
    "istr = int(astr)\n",
    "print('Second', istr)"
   ]
  },
  {
   "cell_type": "code",
   "execution_count": 7,
   "metadata": {},
   "outputs": [
    {
     "name": "stdout",
     "output_type": "stream",
     "text": [
      "-1\n"
     ]
    }
   ],
   "source": [
    "astr = 'Hello Bob'\n",
    "istr = 0\n",
    "try:\n",
    "    istr = int(astr)\n",
    "except:\n",
    "    istr = -1\n",
    "\n",
    "print(istr)"
   ]
  },
  {
   "cell_type": "code",
   "execution_count": 11,
   "metadata": {},
   "outputs": [
    {
     "name": "stdout",
     "output_type": "stream",
     "text": [
      "Two or more\n"
     ]
    }
   ],
   "source": [
    "x=3\n",
    "if x < 2 :\n",
    "    print('Below 2')\n",
    "elif x >= 2 :\n",
    "     print('Two or more')\n",
    "else :\n",
    "    print('Something else')"
   ]
  },
  {
   "cell_type": "code",
   "execution_count": null,
   "metadata": {},
   "outputs": [],
   "source": [
    "#########This code for calculatring Gross Pay - with overtime after 40 hours \n",
    "# to be every hour 1.5 hours\n",
    "\n",
    "hours=input(\"How many hours did you work: \")\n",
    "RPH=input(\"What is your rate per hour: \")\n",
    "\n",
    "hours=float(hours)\n",
    "RPH=float(RPH)\n",
    "\n",
    "if hours>40:\n",
    "\n",
    "    pay=40*RPH\n",
    "    print(\"Regullar payment for the first 40 hours is\",\"$\",pay)\n",
    "\n",
    "    nhours=hours-40\n",
    "    print(\"The Extra Hours Overtime is\",nhours, \"h\")\n",
    "    \n",
    "    nphours=nhours*1.5\n",
    "    print(\"The New Extra Houts is:\",nphours,\"h\")\n",
    "    \n",
    "    epay=nphours*RPH \n",
    "    print(\"The Extra Overtime Payment is\",\"$\",epay)\n",
    "\n",
    "    out_put=epay+pay\n",
    "    print(\"The Total Payment is\",\"$\",out_put)\n",
    "\n",
    "else:\n",
    "    hours=float(hours)\n",
    "    RPH=float(RPH)\n",
    "    out_put=hours*RPH\n",
    "    print(\"The Total Payment is:\",\"$\", out_put)\n"
   ]
  },
  {
   "cell_type": "code",
   "execution_count": null,
   "metadata": {},
   "outputs": [],
   "source": [
    "#######This code for calculatring Gross Pay - with overtime after 40 hours \n",
    "# to be every hour 1.5 hours\n",
    "\n",
    "hours=input(\"How many hours did you work: \")\n",
    "RPH=input(\"What is your rate per hour: \")\n",
    "\n",
    "try: ## Added (try) condition for checking if the inputs are not (string)\n",
    "    hours=float(hours)\n",
    "    RPH=float(RPH)\n",
    "\n",
    "    if hours>40:\n",
    "\n",
    "        pay=40*RPH\n",
    "        print(\"Regullar payment for the first 40 hours is\",\"$\",pay)\n",
    "\n",
    "        nhours=hours-40\n",
    "        print(\"The Extra Hours Overtime is\",nhours, \"h\")\n",
    "    \n",
    "        nphours=nhours*1.5\n",
    "        print(\"The New Extra Houts is:\",nphours,\"h\")\n",
    "    \n",
    "        epay=nphours*RPH \n",
    "        print(\"The Extra Overtime Payment is\",\"$\",epay)\n",
    "\n",
    "        out_put=epay+pay\n",
    "        print(\"The Total Payment is\",\"$\",out_put)\n",
    "\n",
    "    else:\n",
    "        hours=float(hours)\n",
    "        RPH=float(RPH)\n",
    "        out_put=hours*RPH\n",
    "        print(\"The Total Payment is:\",\"$\", out_put)\n",
    "except:\n",
    "    print(\"Please Enter Only Numbers either Hours or The Rate Per Hour (RPH)\")\n"
   ]
  },
  {
   "cell_type": "code",
   "execution_count": 37,
   "metadata": {},
   "outputs": [],
   "source": [
    "######Greade Score Letter  \n",
    "\n",
    "score=input(\"Please Add The Score: \")\n",
    "\n",
    "try:\n",
    "    score=float(score)\n",
    "\n",
    "    if score >= 0.9:\n",
    "        print(\"A\")\n",
    "    elif score >=0.8:\n",
    "        print(\"B\")\n",
    "    elif score >=0.7:\n",
    "        print(\"C\")\n",
    "    elif score>=0.6:\n",
    "        print(\"D\")\n",
    "    else:\n",
    "        print(\"F\")\n",
    "except:\n",
    "    print(\"Please Add Only Numbers\")"
   ]
  },
  {
   "cell_type": "code",
   "execution_count": null,
   "metadata": {},
   "outputs": [],
   "source": [
    "############# Function"
   ]
  },
  {
   "cell_type": "code",
   "execution_count": 2,
   "metadata": {},
   "outputs": [
    {
     "name": "stdout",
     "output_type": "stream",
     "text": [
      "Hello\n",
      "Nice Work\n",
      "Hi\n",
      "Hello\n",
      "Nice Work\n"
     ]
    }
   ],
   "source": [
    "def thing():\n",
    "    print(\"Hello\")\n",
    "    print(\"Nice Work\")\n",
    "\n",
    "thing() #Call the function\n",
    "print(\"Hi\")\n",
    "thing()"
   ]
  },
  {
   "cell_type": "code",
   "execution_count": 3,
   "metadata": {},
   "outputs": [
    {
     "name": "stdout",
     "output_type": "stream",
     "text": [
      "w\n",
      " \n"
     ]
    }
   ],
   "source": [
    "big=max(\"Hello world\")\n",
    "small=min(\"Hello world\")\n",
    "\n",
    "print(big)\n",
    "print(small)"
   ]
  },
  {
   "cell_type": "code",
   "execution_count": 11,
   "metadata": {},
   "outputs": [
    {
     "name": "stdout",
     "output_type": "stream",
     "text": [
      "123456123456\n"
     ]
    }
   ],
   "source": [
    "input=\"123456\"\n",
    "type(input)\n",
    "int(input)\n",
    "output=input*2\n",
    "print(output)"
   ]
  },
  {
   "cell_type": "code",
   "execution_count": 20,
   "metadata": {},
   "outputs": [
    {
     "name": "stdout",
     "output_type": "stream",
     "text": [
      "Hello\n",
      "There\n",
      "?\n"
     ]
    }
   ],
   "source": [
    "def greet(lang):# we can consider (lang) as an alias - Parameters  \n",
    "    if lang == \"as\":\n",
    "        print(\"Hello\")\n",
    "    elif lang == \"es\":\n",
    "        print(\"There\")\n",
    "    else:\n",
    "        print(\"?\")\n",
    "\n",
    "greet(\"as\")\n",
    "greet(\"es\")\n",
    "greet(\"bla\")"
   ]
  },
  {
   "cell_type": "code",
   "execution_count": 22,
   "metadata": {},
   "outputs": [
    {
     "name": "stdout",
     "output_type": "stream",
     "text": [
      "Hello Bla\n",
      "Hello Ola\n"
     ]
    }
   ],
   "source": [
    "def greet():\n",
    "    return(\"Hello\") #To stop the function & Determaines the Residual Value\n",
    "\n",
    "print(greet(), \"Bla\")\n",
    "print(greet(),\"Ola\")"
   ]
  },
  {
   "cell_type": "code",
   "execution_count": 24,
   "metadata": {},
   "outputs": [
    {
     "name": "stdout",
     "output_type": "stream",
     "text": [
      "TAZ, \n",
      "nice\n",
      "job!\n"
     ]
    }
   ],
   "source": [
    "def greet(chill):\n",
    "    if chill==\"as\":\n",
    "        return(\"TAZ, \")\n",
    "    elif chill==\"es\":\n",
    "        return(\"nice\")\n",
    "    else:\n",
    "        return(\"job!\")\n",
    "\n",
    "print(greet(\"as\"))\n",
    "print(greet(\"es\"))\n",
    "print(greet(\"pla\"))"
   ]
  },
  {
   "cell_type": "code",
   "execution_count": 25,
   "metadata": {},
   "outputs": [
    {
     "name": "stdout",
     "output_type": "stream",
     "text": [
      "r\n"
     ]
    }
   ],
   "source": [
    "big=max(\"Hello There\")\n",
    "print(big)\n",
    "\n",
    "# Now [max] is a function similler as the above, and at the end of the \n",
    "# function, there is a return to send back the value of the maximum value"
   ]
  },
  {
   "cell_type": "code",
   "execution_count": 30,
   "metadata": {},
   "outputs": [
    {
     "name": "stdout",
     "output_type": "stream",
     "text": [
      "8\n"
     ]
    }
   ],
   "source": [
    "# Def function can be single or mutli parameters!!\n",
    "\n",
    "# For multi paprmaeters:\n",
    "\n",
    "def fun(a,b):\n",
    "    added=a+b\n",
    "    return(added)\n",
    "\n",
    "print(fun(3,5))\n",
    "\n"
   ]
  },
  {
   "cell_type": "code",
   "execution_count": 2,
   "metadata": {},
   "outputs": [
    {
     "name": "stdout",
     "output_type": "stream",
     "text": [
      "A\n"
     ]
    },
    {
     "data": {
      "text/plain": [
       "()"
      ]
     },
     "execution_count": 2,
     "metadata": {},
     "output_type": "execute_result"
    }
   ],
   "source": [
    "def function(a1,a2,a3,a4):\n",
    "    if a1==1:\n",
    "        print(\"A\")\n",
    "    elif a2==0.9:\n",
    "        print(\"B\")\n",
    "    elif a3==0.8:\n",
    "        print(\"C\")\n",
    "    elif a4==0.7:\n",
    "        print(\"D\")\n",
    "\n",
    "    return()\n",
    "\n",
    "function(1,0.9,0.8,0.7)"
   ]
  },
  {
   "cell_type": "code",
   "execution_count": 3,
   "metadata": {},
   "outputs": [
    {
     "data": {
      "text/plain": [
       "7"
      ]
     },
     "execution_count": 3,
     "metadata": {},
     "output_type": "execute_result"
    }
   ],
   "source": [
    "def function(a1,a2):\n",
    "    sum=a1+a2\n",
    "    return(sum)\n",
    "\n",
    "function(4,3)"
   ]
  },
  {
   "cell_type": "code",
   "execution_count": 5,
   "metadata": {},
   "outputs": [
    {
     "name": "stdout",
     "output_type": "stream",
     "text": [
      "2\n"
     ]
    }
   ],
   "source": [
    "def addtwo(a, b):\n",
    "    added = a + b\n",
    "    return a\n",
    "\n",
    "x = addtwo(2, 7)\n",
    "print(x)"
   ]
  },
  {
   "cell_type": "code",
   "execution_count": null,
   "metadata": {},
   "outputs": [],
   "source": [
    "def computepay(hour,rate):\n",
    "\n",
    "    if hour<=40:\n",
    "        payment=hour*rate\n",
    "        return(payment)\n",
    "    \n",
    "    elif hour>40:\n",
    "       normal=40*rate\n",
    "       extra_hour=hour-40\n",
    "       over_time=extra_hour*1.5\n",
    "       extra_pay=over_time*rate\n",
    "       total_payment=normal+extra_pay\n",
    "       return(total_payment) \n",
    "    \n",
    "h=input(\"please add you work hours: \")\n",
    "r=input(\"Please add your rate per hour: \")\n",
    "\n",
    "h=float(h)\n",
    "r=float(r)\n",
    "\n",
    "print(f\"Your total Payment is: ${computepay(h,r)}\")\n"
   ]
  },
  {
   "cell_type": "code",
   "execution_count": null,
   "metadata": {},
   "outputs": [],
   "source": []
  },
  {
   "cell_type": "code",
   "execution_count": null,
   "metadata": {},
   "outputs": [],
   "source": [
    "## Classes Examples:"
   ]
  },
  {
   "cell_type": "code",
   "execution_count": 31,
   "metadata": {},
   "outputs": [],
   "source": [
    "class Animal:\n",
    "    def __init__(self, name, color, type, year_of_birth):\n",
    "        self.name = name\n",
    "        self.color = color\n",
    "        self.type = type\n",
    "        self.year_of_birth = year_of_birth\n",
    "\n",
    "    def __str__(self):\n",
    "        return f\"Name {self.name}\\nColor {self.color}\\nType {self.type}\\nYear of Birth {self.year_of_birth}\"\n",
    "    \n",
    "    def walk(self):\n",
    "        print(self.name, \" is walking...\")\n",
    "\n",
    "    def comp(self, animal):\n",
    "        print(f\"Self is {self.name}\")\n",
    "        print(f\"animal is {animal.name}\")\n",
    "    "
   ]
  },
  {
   "cell_type": "code",
   "execution_count": 35,
   "metadata": {},
   "outputs": [],
   "source": [
    "dog = Animal(\"Jone\", \"Black\", \"Long\", 2019)\n",
    "cat = Animal(\"MiMo\", \"Red\", \"fat\", 2020)\n",
    "\n",
    "\n",
    "def comp_non(a1, a2):\n",
    "    print(f\"a1: {a1.name}\")\n",
    "    print(f\"a2: {a2.name}\")\n",
    "\n"
   ]
  },
  {
   "cell_type": "code",
   "execution_count": 33,
   "metadata": {},
   "outputs": [
    {
     "name": "stdout",
     "output_type": "stream",
     "text": [
      "Self is Jone\n",
      "animal is MiMo\n"
     ]
    }
   ],
   "source": [
    "dog.comp(cat)\n"
   ]
  },
  {
   "cell_type": "code",
   "execution_count": 34,
   "metadata": {},
   "outputs": [
    {
     "name": "stdout",
     "output_type": "stream",
     "text": [
      "Self is MiMo\n",
      "animal is Jone\n"
     ]
    }
   ],
   "source": [
    "cat.comp(dog) # comp(cat, dog)"
   ]
  },
  {
   "cell_type": "code",
   "execution_count": 36,
   "metadata": {},
   "outputs": [
    {
     "name": "stdout",
     "output_type": "stream",
     "text": [
      "a1: MiMo\n",
      "a2: Jone\n"
     ]
    }
   ],
   "source": [
    "comp_non(cat, dog)"
   ]
  },
  {
   "cell_type": "code",
   "execution_count": 23,
   "metadata": {},
   "outputs": [],
   "source": [
    "class Cow(Animal):\n",
    "    def milk(self):\n",
    "        print(f\"Milking {self.name}\")"
   ]
  },
  {
   "cell_type": "code",
   "execution_count": 24,
   "metadata": {},
   "outputs": [],
   "source": [
    "cow = Cow(\"Taz\", \"yellow\", \"slim\", 2024)"
   ]
  },
  {
   "cell_type": "code",
   "execution_count": 25,
   "metadata": {},
   "outputs": [
    {
     "name": "stdout",
     "output_type": "stream",
     "text": [
      "Name Taz\n",
      "Color yellow\n",
      "Type slim\n",
      "Year of Birth 2024\n"
     ]
    }
   ],
   "source": [
    "print(cow)"
   ]
  },
  {
   "cell_type": "code",
   "execution_count": 26,
   "metadata": {},
   "outputs": [
    {
     "name": "stdout",
     "output_type": "stream",
     "text": [
      "Taz  is walking...\n"
     ]
    }
   ],
   "source": [
    "cow.walk()"
   ]
  },
  {
   "cell_type": "code",
   "execution_count": 27,
   "metadata": {},
   "outputs": [
    {
     "name": "stdout",
     "output_type": "stream",
     "text": [
      "Milking Taz\n"
     ]
    }
   ],
   "source": [
    "cow.milk()"
   ]
  },
  {
   "cell_type": "code",
   "execution_count": 28,
   "metadata": {},
   "outputs": [
    {
     "ename": "AttributeError",
     "evalue": "'Animal' object has no attribute 'milk'",
     "output_type": "error",
     "traceback": [
      "\u001b[0;31m---------------------------------------------------------------------------\u001b[0m",
      "\u001b[0;31mAttributeError\u001b[0m                            Traceback (most recent call last)",
      "Cell \u001b[0;32mIn[28], line 1\u001b[0m\n\u001b[0;32m----> 1\u001b[0m \u001b[43mdog\u001b[49m\u001b[38;5;241;43m.\u001b[39;49m\u001b[43mmilk\u001b[49m()\n",
      "\u001b[0;31mAttributeError\u001b[0m: 'Animal' object has no attribute 'milk'"
     ]
    }
   ],
   "source": [
    "# Create a class for a Car Object. the car have brand, model, year, type, color, top_speed.\n",
    "# You can -> change the color, start the car... "
   ]
  },
  {
   "cell_type": "code",
   "execution_count": null,
   "metadata": {},
   "outputs": [],
   "source": [
    "##End of Class Example "
   ]
  },
  {
   "cell_type": "code",
   "execution_count": 29,
   "metadata": {},
   "outputs": [
    {
     "ename": "TypeError",
     "evalue": "fun() missing 1 required positional argument: 'para'",
     "output_type": "error",
     "traceback": [
      "\u001b[0;31m---------------------------------------------------------------------------\u001b[0m",
      "\u001b[0;31mTypeError\u001b[0m                                 Traceback (most recent call last)",
      "Cell \u001b[0;32mIn[29], line 4\u001b[0m\n\u001b[1;32m      1\u001b[0m \u001b[38;5;28;01mdef\u001b[39;00m \u001b[38;5;21mfun\u001b[39m(para):\n\u001b[1;32m      2\u001b[0m     \u001b[38;5;28mprint\u001b[39m(\u001b[38;5;124m\"\u001b[39m\u001b[38;5;124mHello\u001b[39m\u001b[38;5;124m\"\u001b[39m)\n\u001b[0;32m----> 4\u001b[0m \u001b[43mfun\u001b[49m\u001b[43m(\u001b[49m\u001b[43m)\u001b[49m\n",
      "\u001b[0;31mTypeError\u001b[0m: fun() missing 1 required positional argument: 'para'"
     ]
    }
   ],
   "source": [
    "def fun(para):\n",
    "    print(\"Hello\")\n",
    "\n",
    "fun()"
   ]
  }
 ],
 "metadata": {
  "kernelspec": {
   "display_name": "Python 3",
   "language": "python",
   "name": "python3"
  },
  "language_info": {
   "codemirror_mode": {
    "name": "ipython",
    "version": 3
   },
   "file_extension": ".py",
   "mimetype": "text/x-python",
   "name": "python",
   "nbconvert_exporter": "python",
   "pygments_lexer": "ipython3",
   "version": "3.9.7"
  }
 },
 "nbformat": 4,
 "nbformat_minor": 2
}
